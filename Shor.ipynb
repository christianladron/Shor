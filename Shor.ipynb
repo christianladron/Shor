{
 "cells": [
  {
   "cell_type": "markdown",
   "metadata": {
    "collapsed": false
   },
   "source": [
    "Algoritmo de Shor\n",
    "========================\n",
    "    \n",
    "El algoritmo de Shor consiste en reducir el problema de factorizar un número *N* al problema de encontrar el orden *r* de un entero *a* respecto a *N*, éste paso sólo se puede hacer con recursos superpolinomiales en la computación clásica con los algoritmos conocidos, pero hay un algoritmo de complejidad polinomial usando una computadora cuántica. \n",
    "    \n",
    "El proceso general es el siguiente:\n",
    "\n",
    "1. Se obtiene un número aleatorio *a* que cumpla con $a<N$ y $mcd(a,N)=1$, si $mcd(a,N)\\ne 1$ entonces a es un divisor de *N* y ya tenemos un factor de los que estamos buscando.\n",
    "\n",
    "1. Se calcula el orden de *a* respecto a *N*, es decir el número que cumpla $r = min(\\{x \\in Z | a^x mod N = 1\\})$.\n",
    "\n",
    "1. Si *r* es un número impar se regresa al paso 1, de lo contrario se calcula $d=mcd(a^{r/2}-1,N)$, si $d\\ne 1$ entonces *d* es un factor de  N.\n",
    "\n",
    "Paso 2 y su implementación cuántica\n",
    "---------------------------------------\n",
    "\n",
    "El paso de encontrar el orden de *a* respecto a *N* es polinomial en una computadora cuántica de acuerdo al siguiente algoritmo:\n",
    "\n",
    "1. Crear el siguiente circuito, con el primer y segundo registros de un tamaño *n* que cumpla $N^2 \\le 2^n \\le 2N^2$, El primer registro inicializado en $|0\\rangle ^{\\otimes n}$ y el segundo en $|0\\rangle ^{\\otimes n-1}\\otimes|1\\rangle$\n",
    "![circuito](circuito.png \"circuito\")\n",
    "1. La salida de la primera compuerta $QFT_{2^n}$ (el punto marcado por **1** en el circuito) es el estado $2^{-n/2}(|0\\rangle+|1\\rangle)^{\\otimes n}\\otimes|0\\rangle^{\\otimes n-1}|1\\rangle$.\n",
    "1. La compuerta marcada por $U_a^x$ hace la transformación $|y\\rangle \\rightarrow |a^xmodN\\rangle$ donde $x$ es el registro de control descodificándolo en binario ($|5\\rangle = |1\\rangle|0\\rangle|1\\rangle$), usando:\n",
    "$$ \\frac{1}{\\sqrt{2^n}}(|0\\rangle + |1\\rangle)^{\\otimes n}= \\frac{1}{\\sqrt{2^n}}\\sum_{x=0}^{2n-1}|x\\rangle $$\n",
    "$$\\Rightarrow  \\frac{1}{\\sqrt{2^n}}\\sum_{x=0}^{2n-1} U_a^x |x\\rangle |1\\rangle =  \\frac{1}{\\sqrt{2^n}}\\sum_{x=0}^{2n-1}|x\\rangle |a^x modN\\rangle = \\frac{1}{\\sqrt{2^n}}\\sum_{b=0}^{r-1}\\sum_{z=0}^{m_b-1}|zr+b\\rangle |a^b modN\\rangle $$\n",
    "con $m_b$ de tal forma que $zr+b \\le 2^n-1$ es un valor que depende del actual $b$ , éste estado es el marcado en el diagrama por **2**\n",
    "1. Si se mide el segundo registro el estado colapsa a algún valor de $b$ y el primer registro queda en el estado periódico, y el periodo del estado es el orden de $a$ respecto a $N$\n",
    "$$\\frac{1}{\\sqrt{m_b}}\\sum_{z=0}^{m_b -1} |zr+b\\rangle$$\n",
    "Aplicando la compuerta $QFT_{2^n}^{-1}$ al primer registro la salida (**punto 3**) es una superposición de estados $|x\\rangle$ de forma que $x/2^n \\approx k/r$ para algún valor de $k<r$\n",
    "1. Usando el algoritmo de fracciones contínuas se desarrolla la fracción $x/2^n$ medida hasta encontrar un convergente $\\frac{c_1}{r_1}$que cumpla $$\\|\\frac{x}{2^n}-\\frac{c_1}{r_1}\\| \\le \\frac{1}{2^{\\frac{n-1}{2}}}$$\n",
    "La medición de $x/2^n$ tiene probabilidad $\\frac{4}{r\\pi^2}$ de arrojar una fracción útil para este paso, hay que repetir desde el paso 1 hasta obtener dos convergentes distintos $\\frac{c_1}{r_1}$, $\\frac{c_2}{r_2}$.\n",
    "1. Después se calcula $r = mcm(r_1,r_2)$, si $a^r modN = 1$ entonces $r$ es el orden de $a$ respecto a $N$, de lo contrario se falló y hay que intentar con un nuevo valor de $a$."
   ]
  },
  {
   "cell_type": "code",
   "execution_count": 166,
   "metadata": {
    "collapsed": false
   },
   "outputs": [
    {
     "data": {
      "text/plain": [
       "0.0001"
      ]
     },
     "execution_count": 166,
     "metadata": {},
     "output_type": "execute_result"
    }
   ],
   "source": [
    "N = 15\n",
    "a=7\n",
    "n = int(ceil(2*log2(N)))\n",
    "baseQ=big(int(big(2)^(2*n)))\n",
    "Ψ0 = numtoQvector(xytoQstateNum(0,1,n),n)\n",
    "ρ0 = Ψ0*Ψ0';\n",
    "pflip = 0.0001"
   ]
  },
  {
   "cell_type": "code",
   "execution_count": 198,
   "metadata": {
    "collapsed": true
   },
   "outputs": [
    {
     "data": {
      "text/plain": [
       "4096x4096 sparse matrix with 13 Float64 entries:\n",
       "\t[1   ,    1]  =  8.33333e-6\n",
       "\t[65  ,   65]  =  0.9999\n",
       "\t[66  ,   66]  =  8.33333e-6\n",
       "\t[67  ,   67]  =  8.33333e-6\n",
       "\t[69  ,   69]  =  8.33333e-6\n",
       "\t[73  ,   73]  =  8.33333e-6\n",
       "\t[81  ,   81]  =  8.33333e-6\n",
       "\t[97  ,   97]  =  8.33333e-6\n",
       "\t[193 ,  193]  =  8.33333e-6\n",
       "\t[321 ,  321]  =  8.33333e-6\n",
       "\t[577 ,  577]  =  8.33333e-6\n",
       "\t[1089, 1089]  =  8.33333e-6\n",
       "\t[2113, 2113]  =  8.33333e-6"
      ]
     },
     "execution_count": 198,
     "metadata": {},
     "output_type": "execute_result"
    }
   ],
   "source": [
    "ρ1=aplicaError(ρ0,pflip,flips)"
   ]
  },
  {
   "cell_type": "code",
   "execution_count": 199,
   "metadata": {
    "collapsed": true
   },
   "outputs": [
    {
     "data": {
      "text/plain": [
       "4096x4096 sparse matrix with 90112 Complex{Float64} entries:\n",
       "\t[1   ,    1]  =  2.60404e-7+0.0im\n",
       "\t[2   ,    1]  =  2.604e-7+2.58561e-12im\n",
       "\t[3   ,    1]  =  2.604e-7+2.47925e-12im\n",
       "\t[4   ,    1]  =  2.60398e-7+1.60248e-12im\n",
       "\t[5   ,    1]  =  2.604e-7+2.26757e-12im\n",
       "\t[6   ,    1]  =  2.60396e-7+2.73398e-12im\n",
       "\t[7   ,    1]  =  2.60398e-7+1.2875e-12im\n",
       "\t[8   ,    1]  =  2.60397e-7+3.1549e-13im\n",
       "\t[9   ,    1]  =  2.604e-7+1.85233e-12im\n",
       "\t[10  ,    1]  =  2.60396e-7+3.34008e-12im\n",
       "\t⋮\n",
       "\t[3190, 3200]  =  2.17014e-12+0.0im\n",
       "\t[3191, 3200]  =  2.17014e-12+0.0im\n",
       "\t[3192, 3200]  =  2.17014e-12+0.0im\n",
       "\t[3193, 3200]  =  2.17014e-12+0.0im\n",
       "\t[3194, 3200]  =  2.17014e-12+0.0im\n",
       "\t[3195, 3200]  =  2.17014e-12+0.0im\n",
       "\t[3196, 3200]  =  2.17014e-12+0.0im\n",
       "\t[3197, 3200]  =  2.17014e-12+0.0im\n",
       "\t[3198, 3200]  =  2.17014e-12+0.0im\n",
       "\t[3199, 3200]  =  2.17014e-12+0.0im\n",
       "\t[3200, 3200]  =  2.17014e-12+0.0im"
      ]
     },
     "execution_count": 199,
     "metadata": {},
     "output_type": "execute_result"
    }
   ],
   "source": [
    "ρ2=QFT*ρ1*QFT'\n",
    "ρ3=aplicaError(ρ2,pflip,flips)"
   ]
  },
  {
   "cell_type": "code",
   "execution_count": 200,
   "metadata": {
    "collapsed": false
   },
   "outputs": [
    {
     "data": {
      "text/plain": [
       "4096x4096 sparse matrix with 221184 Complex{Float64} entries:\n",
       "\t[1   ,    1]  =  3.90586e-7+2.75727e-33im\n",
       "\t[2   ,    1]  =  2.60387e-7+2.58544e-12im\n",
       "\t[3   ,    1]  =  3.90579e-7+4.95818e-12im\n",
       "\t[4   ,    1]  =  2.60385e-7+1.60237e-12im\n",
       "\t[5   ,    1]  =  3.90579e-7+4.53483e-12im\n",
       "\t[6   ,    1]  =  2.60383e-7+2.7338e-12im\n",
       "\t[7   ,    1]  =  3.90574e-7+2.57482e-12im\n",
       "\t[8   ,    1]  =  2.60384e-7+3.15481e-13im\n",
       "\t[9   ,    1]  =  3.90579e-7+3.70441e-12im\n",
       "\t[10  ,    1]  =  2.60383e-7+3.33986e-12im\n",
       "\t⋮\n",
       "\t[3702, 3712]  =  5.42535e-17+0.0im\n",
       "\t[3703, 3712]  =  5.42535e-17+0.0im\n",
       "\t[3704, 3712]  =  5.42535e-17+0.0im\n",
       "\t[3705, 3712]  =  5.42535e-17+0.0im\n",
       "\t[3706, 3712]  =  5.42535e-17+0.0im\n",
       "\t[3707, 3712]  =  5.42535e-17+0.0im\n",
       "\t[3708, 3712]  =  5.42535e-17+0.0im\n",
       "\t[3709, 3712]  =  5.42535e-17+0.0im\n",
       "\t[3710, 3712]  =  5.42535e-17+0.0im\n",
       "\t[3711, 3712]  =  5.42535e-17+0.0im\n",
       "\t[3712, 3712]  =  5.42535e-17+0.0im"
      ]
     },
     "execution_count": 200,
     "metadata": {},
     "output_type": "execute_result"
    }
   ],
   "source": [
    "ρ4 = operadorMod*ρ3*operadorMod'\n",
    "ρ5 = aplicaError(ρ4,pflip,flips)"
   ]
  },
  {
   "cell_type": "code",
   "execution_count": 201,
   "metadata": {
    "collapsed": false
   },
   "outputs": [
    {
     "data": {
      "text/plain": [
       "4096x4096 sparse matrix with 495616 Complex{Float64} entries:\n",
       "\t[1   ,    1]  =  2.08288e-5+1.91576e-27im\n",
       "\t[2   ,    1]  =  -1.00064e-21+3.84849e-24im\n",
       "\t[3   ,    1]  =  -4.15091e-22-1.82142e-23im\n",
       "\t[4   ,    1]  =  -1.82412e-21+1.9501e-21im\n",
       "\t[5   ,    1]  =  -8.96766e-22-3.11794e-22im\n",
       "\t[6   ,    1]  =  -1.14251e-21-2.89103e-21im\n",
       "\t[7   ,    1]  =  -9.72172e-21-1.29419e-21im\n",
       "\t[8   ,    1]  =  7.14754e-21-1.00154e-22im\n",
       "\t[9   ,    1]  =  -1.35059e-21-2.95426e-23im\n",
       "\t[10  ,    1]  =  2.32039e-21-1.51884e-21im\n",
       "\t⋮\n",
       "\t[3958, 3968]  =  -3.87045e-50-2.5727e-49im\n",
       "\t[3959, 3968]  =  -2.21325e-49-1.74615e-49im\n",
       "\t[3960, 3968]  =  -2.50336e-49-6.34963e-50im\n",
       "\t[3961, 3968]  =  4.13091e-49+2.64568e-51im\n",
       "\t[3962, 3968]  =  3.50325e-50-5.00672e-49im\n",
       "\t[3963, 3968]  =  7.66335e-50-1.01959e-48im\n",
       "\t[3964, 3968]  =  3.20219e-50+3.33173e-49im\n",
       "\t[3965, 3968]  =  2.05451e-49-2.61831e-49im\n",
       "\t[3966, 3968]  =  4.11631e-49+2.98141e-49im\n",
       "\t[3967, 3968]  =  4.32432e-50-1.21428e-49im\n",
       "\t[3968, 3968]  =  6.69266e-49-2.15304e-50im"
      ]
     },
     "execution_count": 201,
     "metadata": {},
     "output_type": "execute_result"
    }
   ],
   "source": [
    "ρ6 = QFTinv*ρ5*QFTinv'\n",
    "ρf=aplicaError(ρ6,pflip,flips)"
   ]
  },
  {
   "cell_type": "code",
   "execution_count": 192,
   "metadata": {
    "collapsed": false,
    "scrolled": true
   },
   "outputs": [
    {
     "data": {
      "text/plain": [
       "4096x1 sparse matrix with 128 Complex{Float64} entries:\n",
       "\t[65  ,    1]  =  0.5+0.0im\n",
       "\t[66  ,    1]  =  -3.64292e-17-3.51282e-17im\n",
       "\t[67  ,    1]  =  -5.20417e-18+0.0im\n",
       "\t[68  ,    1]  =  -9.71445e-17+6.93889e-17im\n",
       "\t[69  ,    1]  =  -1.04083e-16+6.93889e-18im\n",
       "\t[70  ,    1]  =  -5.20417e-17-1.02349e-16im\n",
       "\t[71  ,    1]  =  -2.17708e-16-6.59195e-17im\n",
       "\t[72  ,    1]  =  1.50054e-16+1.40513e-16im\n",
       "\t[73  ,    1]  =  -3.24562e-16-7.28584e-17im\n",
       "\t[74  ,    1]  =  1.20997e-16-1.26635e-16im\n",
       "\t⋮\n",
       "\t[374 ,    1]  =  2.01228e-16+8.32667e-17im\n",
       "\t[375 ,    1]  =  1.05818e-16-3.05311e-16im\n",
       "\t[376 ,    1]  =  -1.04777e-15+2.03483e-15im\n",
       "\t[377 ,    1]  =  -2.0782e-15+3.50414e-16im\n",
       "\t[378 ,    1]  =  3.46945e-17-1.48666e-15im\n",
       "\t[379 ,    1]  =  5.82867e-16-2.24647e-15im\n",
       "\t[380 ,    1]  =  -9.36751e-17+1.01308e-15im\n",
       "\t[381 ,    1]  =  3.92048e-16-1.68875e-15im\n",
       "\t[382 ,    1]  =  1.90646e-15+5.82867e-16im\n",
       "\t[383 ,    1]  =  -8.67362e-18+2.38091e-16im\n",
       "\t[384 ,    1]  =  1.02002e-15-4.94396e-17im"
      ]
     },
     "execution_count": 192,
     "metadata": {},
     "output_type": "execute_result"
    }
   ],
   "source": [
    "Ψf=QFTinv*operadorMod*QFT*Ψ0"
   ]
  },
  {
   "cell_type": "code",
   "execution_count": 202,
   "metadata": {
    "collapsed": false
   },
   "outputs": [
    {
     "data": {
      "text/plain": [
       "1x1 sparse matrix with 1 Complex{Float64} entries:\n",
       "\t[1, 1]  =  0.999692+1.37325e-23im"
      ]
     },
     "execution_count": 202,
     "metadata": {},
     "output_type": "execute_result"
    }
   ],
   "source": [
    "probfinal = Ψf'*ρf*Ψf"
   ]
  },
  {
   "cell_type": "code",
   "execution_count": null,
   "metadata": {
    "collapsed": true
   },
   "outputs": [],
   "source": []
  }
 ],
 "metadata": {
  "kernelspec": {
   "display_name": "Julia 0.3.9-pre",
   "language": "julia",
   "name": "julia-0.3"
  },
  "language_info": {
   "name": "julia",
   "version": "0.3.10"
  }
 },
 "nbformat": 4,
 "nbformat_minor": 0
}
