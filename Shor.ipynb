{
 "cells": [
  {
   "cell_type": "markdown",
   "metadata": {
    "collapsed": false
   },
   "source": [
    "Algoritmo de Shor\n",
    "========================\n",
    "    \n",
    "El algoritmo de Shor consiste en reducir el problema de factorizar un número *N* al problema de encontrar el orden *r* de un entero *a* respecto a *N*, éste paso sólo se puede hacer con recursos superpolinomiales en la computación clásica con los algoritmos conocidos, pero hay un algoritmo de complejidad polinomial usando una computadora cuántica. \n",
    "    \n",
    "El proceso general es el siguiente:\n",
    "\n",
    "1. Se obtiene un número aleatorio *a* que cumpla con $a<N$ y $mcd(a,N)=1$, si $mcd(a,N)\\ne 1$ entonces a es un divisor de *N* y ya tenemos un factor de los que estamos buscando.\n",
    "\n",
    "1. Se calcula el orden de *a* respecto a *N*, es decir el número que cumpla $r = min(\\{x \\in Z | a^x mod N = 1\\})$.\n",
    "\n",
    "1. Si *r* es un número impar se regresa al paso 1, de lo contrario se calcula $d=mcd(a^{r/2}-1,N)$, si $d\\ne 1$ entonces *d* es un factor de  N.\n",
    "\n",
    "Paso 2 y su implementación cuántica\n",
    "---------------------------------------\n",
    "\n",
    "El paso de encontrar el orden de *a* respecto a *N* es polinomial en una computadora cuántica de acuerdo al siguiente algoritmo:\n",
    "\n",
    "1. Crear el siguiente circuito, con el primer y segundo registros de un tamaño *n* que cumpla $N^2 \\le 2^n \\le 2N^2$, El primer registro inicializado en $|0\\rangle ^{\\otimes n}$ y el segundo en $|0\\rangle ^{\\otimes n-1}\\otimes|1\\rangle$\n",
    "![circuito](circuito.png \"circuito\")\n",
    "1. La salida de la primera compuerta $QFT_{2^n}$ (el punto marcado por **1** en el circuito) es el estado $2^{-n/2}(|0\\rangle+|1\\rangle)^{\\otimes n}\\otimes|0\\rangle^{\\otimes n-1}|1\\rangle$.\n",
    "1. La compuerta marcada por $U_a^x$ hace la transformación $|y\\rangle \\rightarrow |a^xmodN\\rangle$ donde $x$ es el registro de control descodificándolo en binario ($|5\\rangle = |1\\rangle|0\\rangle|1\\rangle$), usando:\n",
    "$$ \\frac{1}{\\sqrt{2^n}}(|0\\rangle + |1\\rangle)^{\\otimes n}= \\frac{1}{\\sqrt{2^n}}\\sum_{x=0}^{2n-1}|x\\rangle $$\n",
    "$$\\Rightarrow  \\frac{1}{\\sqrt{2^n}}\\sum_{x=0}^{2n-1} U_a^x |x\\rangle |1\\rangle =  \\frac{1}{\\sqrt{2^n}}\\sum_{x=0}^{2n-1}|x\\rangle |a^x modN\\rangle = \\frac{1}{\\sqrt{2^n}}\\sum_{b=0}^{r-1}\\sum_{z=0}^{m_b-1}|zr+b\\rangle |a^b modN\\rangle $$\n",
    "con $m_b$ de tal forma que $zr+b \\le 2^n-1$ es un valor que depende del actual $b$ , éste estado es el marcado en el diagrama por **2**\n",
    "1. Si se mide el segundo registro el estado colapsa a algún valor de $b$ y el primer registro queda en el estado periódico, y el periodo del estado es el orden de $a$ respecto a $N$\n",
    "$$\\frac{1}{\\sqrt{m_b}}\\sum_{z=0}^{m_b -1} |zr+b\\rangle$$\n",
    "Aplicando la compuerta $QFT_{2^n}^{-1}$ al primer registro la salida (**punto 3**) es una superposición de estados $|x\\rangle$ de forma que $x/2^n \\approx k/r$ para algún valor de $k<r$\n",
    "1. Usando el algoritmo de fracciones contínuas se desarrolla la fracción $x/2^n$ medida hasta encontrar un convergente $\\frac{c_1}{r_1}$que cumpla $$\\|\\frac{x}{2^n}-\\frac{c_1}{r_1}\\| \\le \\frac{1}{2^{\\frac{n-1}{2}}}$$\n",
    "La medición de $x/2^n$ tiene probabilidad $\\frac{4}{r\\pi^2}$ de arrojar una fracción útil para este paso, hay que repetir desde el paso 1 hasta obtener dos convergentes distintos $\\frac{c_1}{r_1}$, $\\frac{c_2}{r_2}$.\n",
    "1. Después se calcula $r = mcm(r_1,r_2)$, si $a^r modN = 1$ entonces $r$ es el orden de $a$ respecto a $N$, de lo contrario se falló y hay que intentar con un nuevo valor de $a$."
   ]
  },
  {
   "cell_type": "markdown",
   "metadata": {},
   "source": [
    "Errores en el circuito\n",
    "--------------------------------\n",
    "Las imperfecciones y ruido que hay en un circuito se pueden modelar de la forma $\\rho_{f} = (1-p)\\rho_i + p\\chi\\rho_i\\chi^\\dagger$, donde $\\rho_i$ es la matriz de densidad inicial,$\\rho_f$ es la matriz de densidad después de la evolución, $\\chi$ es el operador *error* y $p$ es la probabilidad de que se ocasione el error en la evolución del sistema.\n",
    "\n",
    "En el siguiente ejemplo se crea un estado $\\Psi_0$ y una matriz de densidad $\\rho_0$ correspondiente a este estado puro. *N* es el número que se quiere factorizar y *a* el primo relativo que se usará en la función módulo, *pflip* es la probabilidad de que un Q-bit cambie su estado en un canal."
   ]
  },
  {
   "cell_type": "code",
   "execution_count": 1,
   "metadata": {
    "collapsed": false
   },
   "outputs": [
    {
     "data": {
      "text/plain": [
       "0.012"
      ]
     },
     "execution_count": 1,
     "metadata": {},
     "output_type": "execute_result"
    }
   ],
   "source": [
    "include(\"ShorCompuertas.jl\")\n",
    "using algoritmoShor\n",
    "N = 6\n",
    "a=5\n",
    "n = int(ceil(2*log2(N)))\n",
    "baseQ=big(int(big(2)^(2*n)))\n",
    "Ψ0 = numtoQvector(int(xytoQstateNum(0,1,n)),n)\n",
    "ρ0 = Ψ0*Ψ0';\n",
    "QFT = full(generaQFT(n))\n",
    "QFTinv = full(generaQFTinv(n))\n",
    "operadorMod = full(generamodN(n,N,a))\n",
    "flips = full(generaTransformaciones1flip(n))\n",
    "pflip = 0.001\n",
    "pflip*=2*n"
   ]
  },
  {
   "cell_type": "markdown",
   "metadata": {},
   "source": [
    "Se calcula $\\rho_1$ que es la matriz de densidad posterior a una evolución donde puede haber hasta 3 cambios en cada un Q-bit, *flips* contiente todas las transformaciones $\\chi$ que se aplicarán, en éste caso representa el error por no poder crear el estado inicial exacto."
   ]
  },
  {
   "cell_type": "code",
   "execution_count": 3,
   "metadata": {
    "collapsed": true
   },
   "outputs": [
    {
     "data": {
      "text/plain": [
       "4096x4096 sparse matrix with 299 Float64 entries:\n",
       "\t[1   ,    1]  =  0.0002495\n",
       "\t[2   ,    2]  =  4.1625e-8\n",
       "\t[3   ,    3]  =  4.1625e-8\n",
       "\t[4   ,    4]  =  3.47222e-12\n",
       "\t[5   ,    5]  =  4.1625e-8\n",
       "\t[6   ,    6]  =  3.47222e-12\n",
       "\t[7   ,    7]  =  3.47222e-12\n",
       "\t[9   ,    9]  =  4.1625e-8\n",
       "\t[10  ,   10]  =  3.47222e-12\n",
       "\t[11  ,   11]  =  3.47222e-12\n",
       "\t⋮\n",
       "\t[3073, 3073]  =  3.47222e-12\n",
       "\t[3137, 3137]  =  4.1625e-8\n",
       "\t[3138, 3138]  =  3.47222e-12\n",
       "\t[3139, 3139]  =  3.47222e-12\n",
       "\t[3141, 3141]  =  3.47222e-12\n",
       "\t[3145, 3145]  =  3.47222e-12\n",
       "\t[3153, 3153]  =  3.47222e-12\n",
       "\t[3169, 3169]  =  3.47222e-12\n",
       "\t[3265, 3265]  =  3.47222e-12\n",
       "\t[3393, 3393]  =  3.47222e-12\n",
       "\t[3649, 3649]  =  3.47222e-12"
      ]
     },
     "execution_count": 3,
     "metadata": {},
     "output_type": "execute_result"
    }
   ],
   "source": [
    "ρ1=aplicaError(ρ0,pflip,flips)\n",
    "ρ1=aplicaError(ρ1,pflip,flips)\n",
    "ρ1=aplicaError(ρ1,pflip,flips)"
   ]
  },
  {
   "cell_type": "markdown",
   "metadata": {},
   "source": [
    "Se calcula $\\rho_2$ que es el estado posterior a la *QFT* y luego se calcula $\\rho_3$ que de nuevo es aplicar el error donde puede haber hasta 3 flips en cada Q-bit"
   ]
  },
  {
   "cell_type": "code",
   "execution_count": 4,
   "metadata": {
    "collapsed": true
   },
   "outputs": [
    {
     "data": {
      "text/plain": [
       "4096x4096 Array{Complex{Float64},2}:\n",
       " 7.79299e-6-4.46539e-33im   …                   0.0+0.0im\n",
       " 7.78748e-6+3.86712e-9im                        0.0+0.0im\n",
       " 7.78749e-6+3.70806e-9im                        0.0+0.0im\n",
       "   7.784e-6+2.39605e-9im                        0.0+0.0im\n",
       " 7.78752e-6+3.39149e-9im                        0.0+0.0im\n",
       " 7.78219e-6+4.08729e-9im    …                   0.0+0.0im\n",
       " 7.78407e-6+1.92513e-9im                        0.0+0.0im\n",
       " 7.78285e-6+4.72173e-10im                       0.0+0.0im\n",
       " 7.78764e-6+2.77051e-9im                        0.0+0.0im\n",
       " 7.78199e-6+4.99334e-9im                        0.0+0.0im\n",
       "  7.78238e-6+3.3227e-9im    …                   0.0+0.0im\n",
       " 7.77972e-6+8.05637e-10im                       0.0+0.0im\n",
       " 7.78435e-6+1.02384e-9im                        0.0+0.0im\n",
       "                    ⋮       ⋱                      ⋮     \n",
       "                 0.0+0.0im      4.51732e-20-9.3553e-25im \n",
       "                 0.0+0.0im  …  4.51763e-20-3.85848e-24im \n",
       "                 0.0+0.0im     4.51759e-20-5.79875e-24im \n",
       "                 0.0+0.0im     4.51824e-20-3.21585e-24im \n",
       "                 0.0+0.0im     4.51768e-20-5.47725e-25im \n",
       "                 0.0+0.0im     4.51783e-20-2.23524e-24im \n",
       "                 0.0+0.0im  …   4.51761e-20-4.7465e-24im \n",
       "                 0.0+0.0im     4.51823e-20-3.93675e-24im \n",
       "                 0.0+0.0im     4.51782e-20-2.78208e-24im \n",
       "                 0.0+0.0im     4.51822e-20-4.30426e-24im \n",
       "                 0.0+0.0im     4.51822e-20-4.48891e-24im \n",
       "                 0.0+0.0im  …           4.51886e-20+0.0im"
      ]
     },
     "execution_count": 4,
     "metadata": {},
     "output_type": "execute_result"
    }
   ],
   "source": [
    "ρ2=QFT*ρ1*QFT'\n",
    "ρ3=aplicaError(ρ2,pflip,flips)\n",
    "ρ3=aplicaError(ρ3,pflip,flips)\n",
    "ρ3=aplicaError(ρ3,pflip,flips)"
   ]
  },
  {
   "cell_type": "markdown",
   "metadata": {},
   "source": [
    "se calcula $\\rho_4$ que es el estado después de la compuerta controlada $U_a^x$ y de nuevo se aplican los errores y el resultado es $\\rho_5$"
   ]
  },
  {
   "cell_type": "code",
   "execution_count": 5,
   "metadata": {
    "collapsed": true
   },
   "outputs": [
    {
     "data": {
      "text/plain": [
       "4096x4096 Array{Complex{Float64},2}:\n",
       " 1.16713e-5-1.21246e-31im   …                   0.0+0.0im\n",
       " 7.77581e-6+3.85939e-9im                        0.0+0.0im\n",
       " 1.16625e-5+5.92054e-9im                        0.0+0.0im\n",
       " 7.77234e-6+2.39126e-9im                        0.0+0.0im\n",
       " 1.16626e-5+5.41508e-9im                        0.0+0.0im\n",
       " 7.77053e-6+4.07912e-9im    …                   0.0+0.0im\n",
       " 1.16571e-5+3.07372e-9im                        0.0+0.0im\n",
       " 7.77118e-6+4.71764e-10im                       0.0+0.0im\n",
       " 1.16628e-5+4.42359e-9im                        0.0+0.0im\n",
       " 7.77033e-6+4.98336e-9im                        0.0+0.0im\n",
       " 1.16544e-5+5.30505e-9im    …                   0.0+0.0im\n",
       "  7.76807e-6+8.0417e-10im                       0.0+0.0im\n",
       "  1.16575e-5+1.6347e-9im                        0.0+0.0im\n",
       "                    ⋮       ⋱                      ⋮     \n",
       "                 0.0+0.0im      9.46678e-19-5.2273e-23im \n",
       "                 0.0+0.0im  …   9.4685e-19-2.15578e-22im \n",
       "                 0.0+0.0im     9.46825e-19-3.23977e-22im \n",
       "                 0.0+0.0im      9.47192e-19-1.7971e-22im \n",
       "                 0.0+0.0im      9.4688e-19-3.06304e-23im \n",
       "                 0.0+0.0im      9.4696e-19-1.24894e-22im \n",
       "                 0.0+0.0im  …  9.46838e-19-2.65189e-22im \n",
       "                 0.0+0.0im     9.47184e-19-2.19993e-22im \n",
       "                 0.0+0.0im     9.46955e-19-1.55447e-22im \n",
       "                 0.0+0.0im     9.47182e-19-2.40529e-22im \n",
       "                 0.0+0.0im     9.47181e-19-2.50847e-22im \n",
       "                 0.0+0.0im  …  9.47538e-19-4.57728e-42im "
      ]
     },
     "execution_count": 5,
     "metadata": {},
     "output_type": "execute_result"
    }
   ],
   "source": [
    "ρ4 = operadorMod*ρ3*operadorMod'\n",
    "ρ5 = aplicaError(ρ4,pflip,flips)\n",
    "ρ5 = aplicaError(ρ5,pflip,flips)\n",
    "ρ5 = aplicaError(ρ5,pflip,flips)"
   ]
  },
  {
   "cell_type": "markdown",
   "metadata": {},
   "source": [
    "$\\rho_6$ es el estado posterior a *QFT*$^{-1}$, de nuevo se altera el estado con las transformaciones de errores. $\\rho_f$ es el estado final del circuito, corresponde al estado que se mediría"
   ]
  },
  {
   "cell_type": "code",
   "execution_count": 11,
   "metadata": {
    "collapsed": true
   },
   "outputs": [
    {
     "data": {
      "text/plain": [
       "4096x4096 Array{Complex{Float64},2}:\n",
       "  0.000559596-2.94395e-26im   …                    0.0+0.0im\n",
       " -2.66435e-20-1.97518e-21im                        0.0+0.0im\n",
       " -9.75081e-21+3.25035e-21im                        0.0+0.0im\n",
       " -4.47739e-20+5.13411e-20im                        0.0+0.0im\n",
       " -8.14537e-20-2.50022e-20im                        0.0+0.0im\n",
       "  -2.83118e-20-6.9473e-20im   …                    0.0+0.0im\n",
       " -2.65319e-19-3.59861e-20im                        0.0+0.0im\n",
       "  1.96363e-19-2.07481e-20im                        0.0+0.0im\n",
       " -9.93721e-20-4.20427e-20im                        0.0+0.0im\n",
       "  5.56432e-20-3.25954e-20im                        0.0+0.0im\n",
       " -9.59702e-20-1.08763e-19im   …                    0.0+0.0im\n",
       "  1.50298e-20-2.06658e-19im                        0.0+0.0im\n",
       " -3.79461e-20-6.96634e-20im                        0.0+0.0im\n",
       "                      ⋮       ⋱                       ⋮     \n",
       "                   0.0+0.0im      3.90774e-35-1.02478e-35im \n",
       "                   0.0+0.0im  …   2.51065e-34-1.71354e-34im \n",
       "                   0.0+0.0im     -1.15125e-35+5.04449e-35im \n",
       "                   0.0+0.0im      9.87477e-26-4.09026e-26im \n",
       "                   0.0+0.0im     -5.12455e-35+2.88535e-35im \n",
       "                   0.0+0.0im     -1.19347e-34+1.54676e-34im \n",
       "                   0.0+0.0im  …  -1.52531e-34-1.35933e-35im \n",
       "                   0.0+0.0im      1.70223e-25-3.38594e-26im \n",
       "                   0.0+0.0im      1.22763e-34-5.19723e-35im \n",
       "                   0.0+0.0im      4.76594e-34+1.41391e-34im \n",
       "                   0.0+0.0im     -8.62123e-35-2.47036e-34im \n",
       "                   0.0+0.0im  …   5.14076e-25-2.46937e-34im "
      ]
     },
     "execution_count": 11,
     "metadata": {},
     "output_type": "execute_result"
    }
   ],
   "source": [
    "ρ6 = QFTinv*ρ5*QFTinv'"
   ]
  },
  {
   "cell_type": "code",
   "execution_count": 12,
   "metadata": {
    "collapsed": true
   },
   "outputs": [
    {
     "name": "stdout",
     "output_type": "stream",
     "text": [
      "elapsed time: 28.036605839 seconds (9935281224 bytes allocated, 6.12% gc time)\n"
     ]
    },
    {
     "data": {
      "text/plain": [
       "4096x4096 Array{Complex{Float64},2}:\n",
       "  0.000579776-5.78725e-25im   …                    0.0+0.0im\n",
       " -2.77792e-20-1.65911e-21im                        0.0+0.0im\n",
       " -1.00928e-20+3.92097e-21im                        0.0+0.0im\n",
       " -4.88734e-20+5.44093e-20im                        0.0+0.0im\n",
       "  1.38409e-15+3.10349e-16im                        0.0+0.0im\n",
       " -3.05464e-20-7.35879e-20im   …                    0.0+0.0im\n",
       " -2.74092e-19-3.84602e-20im                        0.0+0.0im\n",
       "  2.02269e-19-1.48408e-20im                        0.0+0.0im\n",
       "   2.2326e-15+1.05962e-15im                        0.0+0.0im\n",
       "  6.05636e-20-3.77845e-20im                        0.0+0.0im\n",
       " -9.89837e-20-1.18602e-19im   …                    0.0+0.0im\n",
       "   1.4612e-20-2.22259e-19im                        0.0+0.0im\n",
       "  3.91621e-16+3.10402e-16im                        0.0+0.0im\n",
       "                      ⋮       ⋱                       ⋮     \n",
       "                   0.0+0.0im      1.23558e-34+1.21519e-35im \n",
       "                   0.0+0.0im  …    2.02721e-33+3.5762e-34im \n",
       "                   0.0+0.0im     -1.15995e-34+6.66391e-34im \n",
       "                   0.0+0.0im      1.99903e-24-1.08626e-25im \n",
       "                   0.0+0.0im     -1.34704e-34+6.22426e-35im \n",
       "                   0.0+0.0im      5.65127e-34-6.48244e-34im \n",
       "                   0.0+0.0im  …  -2.17395e-34-1.50552e-34im \n",
       "                   0.0+0.0im      3.05067e-24-8.99046e-26im \n",
       "                   0.0+0.0im     -3.24983e-34+5.45224e-34im \n",
       "                   0.0+0.0im      1.51133e-34-1.93965e-33im \n",
       "                   0.0+0.0im      1.64796e-33+7.36521e-34im \n",
       "                   0.0+0.0im  …    8.76704e-24-4.5523e-34im "
      ]
     },
     "execution_count": 12,
     "metadata": {},
     "output_type": "execute_result"
    }
   ],
   "source": [
    "ρf=aplicaError(ρ6,pflip,flips)"
   ]
  },
  {
   "cell_type": "code",
   "execution_count": 13,
   "metadata": {
    "collapsed": true
   },
   "outputs": [
    {
     "data": {
      "text/plain": [
       "4096x4096 Array{Complex{Float64},2}:\n",
       "  0.000620035-1.53307e-24im   …                    0.0+0.0im\n",
       " -3.00627e-20-1.02641e-21im                        0.0+0.0im\n",
       "  -1.07942e-20+5.2668e-21im                        0.0+0.0im\n",
       " -5.70572e-20+6.05453e-20im                        0.0+0.0im\n",
       "  4.53594e-15+1.09081e-15im                        0.0+0.0im\n",
       "  -3.5013e-20-8.18063e-20im   …                    0.0+0.0im\n",
       " -2.91592e-19-4.33885e-20im                        0.0+0.0im\n",
       "  2.14055e-19-3.06625e-21im                        0.0+0.0im\n",
       "  7.23924e-15+3.72431e-15im                        0.0+0.0im\n",
       "   7.03773e-20-4.8149e-20im                        0.0+0.0im\n",
       " -1.05001e-19-1.38212e-19im   …                    0.0+0.0im\n",
       "  1.37837e-20-2.53376e-19im                        0.0+0.0im\n",
       "  1.23989e-15+1.09131e-15im                        0.0+0.0im\n",
       "                      ⋮       ⋱                       ⋮     \n",
       "                   0.0+0.0im      1.07519e-33+1.19642e-33im \n",
       "                   0.0+0.0im  …   2.36302e-32+6.25359e-33im \n",
       "                   0.0+0.0im     -4.09636e-33+5.82307e-33im \n",
       "                   0.0+0.0im      3.58461e-23-4.80431e-25im \n",
       "                   0.0+0.0im      -2.0245e-33-4.70563e-35im \n",
       "                   0.0+0.0im       4.2261e-33-3.14366e-33im \n",
       "                   0.0+0.0im  …   6.22186e-33-4.48862e-33im \n",
       "                   0.0+0.0im      5.38844e-23-3.97294e-25im \n",
       "                   0.0+0.0im     -2.87298e-33-2.34747e-33im \n",
       "                   0.0+0.0im     -2.96085e-32-1.70755e-32im \n",
       "                   0.0+0.0im      1.29498e-32-3.51077e-33im \n",
       "                   0.0+0.0im  …   1.53844e-22-1.02519e-32im "
      ]
     },
     "execution_count": 13,
     "metadata": {},
     "output_type": "execute_result"
    }
   ],
   "source": [
    "ρf=aplicaError(ρf,pflip,flips)\n",
    "ρf=aplicaError(ρf,pflip,flips)"
   ]
  },
  {
   "cell_type": "markdown",
   "metadata": {},
   "source": [
    "Se calcula $\\Psi_f$, el estado final obtenido con error cero, usando compuertas ideales."
   ]
  },
  {
   "cell_type": "code",
   "execution_count": 14,
   "metadata": {
    "collapsed": true
   },
   "outputs": [
    {
     "data": {
      "text/plain": [
       "4096x1 Array{Complex{Float64},2}:\n",
       " 0.0+0.0im\n",
       " 0.0+0.0im\n",
       " 0.0+0.0im\n",
       " 0.0+0.0im\n",
       " 0.0+0.0im\n",
       " 0.0+0.0im\n",
       " 0.0+0.0im\n",
       " 0.0+0.0im\n",
       " 0.0+0.0im\n",
       " 0.0+0.0im\n",
       " 0.0+0.0im\n",
       " 0.0+0.0im\n",
       " 0.0+0.0im\n",
       "    ⋮     \n",
       " 0.0+0.0im\n",
       " 0.0+0.0im\n",
       " 0.0+0.0im\n",
       " 0.0+0.0im\n",
       " 0.0+0.0im\n",
       " 0.0+0.0im\n",
       " 0.0+0.0im\n",
       " 0.0+0.0im\n",
       " 0.0+0.0im\n",
       " 0.0+0.0im\n",
       " 0.0+0.0im\n",
       " 0.0+0.0im"
      ]
     },
     "execution_count": 14,
     "metadata": {},
     "output_type": "execute_result"
    }
   ],
   "source": [
    "Ψf=QFTinv*operadorMod*QFT*Ψ0"
   ]
  },
  {
   "cell_type": "markdown",
   "metadata": {},
   "source": [
    "Con el estado final ideal, y el estado final con estimación de errores se calcula la probabilidad de que un circuito con esos errores genere el mismo resultado que un circuito ideal. Para el caso de un circuito con dos registros de 6 bits, con una aplicación de errores con $pflip=0.001$ entre cada compuerta la probabilidad calculada es de 0.999692, con tres aplicaciones de errores la probabilidad es de 0.890."
   ]
  },
  {
   "cell_type": "code",
   "execution_count": 15,
   "metadata": {
    "collapsed": false
   },
   "outputs": [
    {
     "data": {
      "text/plain": [
       "1x1 Array{Complex{Float64},2}:\n",
       " 0.990791+2.24373e-22im"
      ]
     },
     "execution_count": 15,
     "metadata": {},
     "output_type": "execute_result"
    }
   ],
   "source": [
    "probEstadoDeseado = Ψf'*ρf*Ψf"
   ]
  },
  {
   "cell_type": "code",
   "execution_count": null,
   "metadata": {
    "collapsed": true
   },
   "outputs": [],
   "source": []
  }
 ],
 "metadata": {
  "kernelspec": {
   "display_name": "Julia 0.3.8",
   "language": "julia",
   "name": "julia-0.3"
  },
  "language_info": {
   "name": "julia",
   "version": "0.3.8"
  }
 },
 "nbformat": 4,
 "nbformat_minor": 0
}
